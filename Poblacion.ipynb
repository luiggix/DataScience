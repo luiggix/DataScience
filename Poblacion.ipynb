{
 "cells": [
  {
   "cell_type": "markdown",
   "id": "792734ac-10e7-4284-bc46-43f9e347113b",
   "metadata": {},
   "source": [
    "# Análisis de la tasa de fertilidad total mundial\n",
    "\n",
    "This notebook by Luis M. de la Cruz Salas is licensed under <a href=\"https://creativecommons.org/licenses/by-nc-nd/4.0?ref=chooser-v1\">Attribution-NonCommercial-NoDerivatives 4.0 International</a>\n",
    "\n",
    "Para lograr una excelente visualización de datos se debe tener: **mucha curiosidad** e interés en **muchos temas variados** que pueden parecer poco relacionados entre ellos: matemáticas, demografía, epidemiología, economía, deportes, ventas por internet, historia, psicología y muchos etcéteras.\n",
    "\n",
    "Durante el proceso de esta visualización la vida tenderá a convertirse en un **caos intelectual**, pero **sistemático y emocionante**.\n",
    "\n",
    "La **visualización de datos** es muy importante, pues es posible que sea **lo único que vean tus interlocutores**: cliente, colega, jefe, tutor, jurado, lectores de un periódico, público en una conferencia, ... y probablemente a ellos no les interese mucho los datos numéricos o los algoritmos usados en su análisis.\n",
    "\n",
    "El público a quien deseas transmitir tus hallazgos olvidarán muy pronto los numéros; <font color=\"Blue\">pero si introduces tus hallazgos mediante un relato que cuente la historia de los datos, es posible que ellos se lleven un buen sabor de boca y recuerden la información recibida por mucho más tiempo e incluso tomen acciones.</font>\n",
    "\n",
    "##  Objetivo\n",
    "- Obtener información de http://data.un.org/ de las siguientes variables:\n",
    "    - Tasa de fertilidad total (TFR)\n",
    "    - Ingreso per cápita (GDP)\n",
    "    - Nivel de educación (EDU)\n",
    "    - Esperanza de vida al nacer (LEB)\n",
    "\n",
    "- Construir una visualización que permita comparar el cambio en el Total Fertility Rate (TFR) en función del tiempo para varias países.\n",
    "\n",
    "- Generar un data set para el índice de desarrollo humano (HDI) de acuerdo con: https://en.wikipedia.org/wiki/Human_Development_Index"
   ]
  },
  {
   "cell_type": "code",
   "execution_count": null,
   "id": "f80c7756-9514-4bf0-982d-3341ff8908d5",
   "metadata": {
    "tags": []
   },
   "outputs": [],
   "source": [
    "import numpy as np\n",
    "import matplotlib.pyplot as plt\n",
    "import pandas as pd \n",
    "from math import ceil\n",
    "\n",
    "# Esta biblioteca solo funciona en la plataforma www.macti.unam.mx\n",
    "# Si no estas en esa plataforma, solo comenta la línea que sigue.\n",
    "import macti.visual"
   ]
  },
  {
   "cell_type": "markdown",
   "id": "17afae29-e28f-44ce-a033-c430276728ae",
   "metadata": {},
   "source": [
    "# Conjuntos de datos.\n",
    "Los datos ya están en el directorio de esta notebook. Solo los leemos."
   ]
  },
  {
   "cell_type": "code",
   "execution_count": null,
   "id": "29e94157-9dde-4043-9ff2-fbe381bff0a7",
   "metadata": {
    "tags": []
   },
   "outputs": [],
   "source": [
    "TFR = pd.read_csv('UNdata_Export_20230621_205538168.zip')\n",
    "# GPD per capita\n",
    "GDP = pd.read_csv('UNdata_Export_20230624_011417717.zip')\n",
    "# Life expectancy at birth \n",
    "LEB = pd.read_csv('UNdata_Export_20230624_013747471.zip')\n",
    "# Gross enrolment ratio. Tertiary education\n",
    "EDU = pd.read_csv('UNdata_Export_20230624_014454110.zip')"
   ]
  },
  {
   "cell_type": "code",
   "execution_count": null,
   "id": "80769312-57e8-4aab-9c8e-68b56987429d",
   "metadata": {
    "tags": []
   },
   "outputs": [],
   "source": [
    "EDU.head()"
   ]
  },
  {
   "cell_type": "code",
   "execution_count": null,
   "id": "87b59048-765c-49ce-99bc-7ab729f339a4",
   "metadata": {
    "tags": []
   },
   "outputs": [],
   "source": [
    "print(TFR.columns)\n",
    "print(GDP.columns)\n",
    "print(LEB.columns)\n",
    "print(EDU.columns)"
   ]
  },
  {
   "cell_type": "markdown",
   "id": "59f44fbc-6f47-4b4c-8be3-c4aad6b8c491",
   "metadata": {},
   "source": [
    "Agrupamos los datos por países y regiones geográficas."
   ]
  },
  {
   "cell_type": "code",
   "execution_count": null,
   "id": "02584d6e-137e-48da-8619-e11086795e8d",
   "metadata": {
    "tags": []
   },
   "outputs": [],
   "source": [
    "TFR_group = TFR.groupby('Country or Area')\n",
    "GDP_group = GDP.groupby('Country or Area')\n",
    "LEB_group = LEB.groupby('Country or Area')\n",
    "EDU_group = EDU.groupby('Reference Area')"
   ]
  },
  {
   "cell_type": "markdown",
   "id": "e4ef305d-8407-4303-b657-004eb9d75b49",
   "metadata": {},
   "source": [
    "Determinamos los países que se tienen en cada conjunto de datos"
   ]
  },
  {
   "cell_type": "code",
   "execution_count": null,
   "id": "7409dd4d-a6bf-4d8a-b784-cc5b5aa693b7",
   "metadata": {
    "tags": []
   },
   "outputs": [],
   "source": [
    "TFR_countries = TFR_group.groups.keys()\n",
    "GDP_countries = GDP_group.groups.keys()\n",
    "LEB_countries = LEB_group.groups.keys()\n",
    "EDU_countries = EDU_group.groups.keys()"
   ]
  },
  {
   "cell_type": "code",
   "execution_count": null,
   "id": "706e3eba-bc8e-4096-999a-7cea70e5b68b",
   "metadata": {
    "tags": []
   },
   "outputs": [],
   "source": [
    "print(len(TFR_countries))\n",
    "print(len(GDP_countries))\n",
    "print(len(LEB_countries))\n",
    "print(len(EDU_countries))"
   ]
  },
  {
   "cell_type": "code",
   "execution_count": null,
   "id": "db3754ce-e4ff-4bfe-a65f-985e6eb8086b",
   "metadata": {
    "tags": []
   },
   "outputs": [],
   "source": [
    "print(TFR_countries)"
   ]
  },
  {
   "cell_type": "markdown",
   "id": "b068d128-e028-4329-acee-35a06a7603bd",
   "metadata": {},
   "source": [
    "Determinamos los países que son comunes a todos los conjuntos de datos."
   ]
  },
  {
   "cell_type": "code",
   "execution_count": null,
   "id": "d7c6497a-14c5-499b-94e9-3c7e724ef68f",
   "metadata": {
    "tags": []
   },
   "outputs": [],
   "source": [
    "filtra_GDP = lambda p: p in GDP_countries\n",
    "filtra_LEB = lambda p: p in LEB_countries\n",
    "filtra_EDU = lambda p: p in EDU_countries"
   ]
  },
  {
   "cell_type": "code",
   "execution_count": null,
   "id": "b63f153f-34af-43e0-8c61-cf1143866db3",
   "metadata": {
    "tags": []
   },
   "outputs": [],
   "source": [
    "len(list(filter(filtra_EDU, list(filter(filtra_GDP, list(filter(filtra_LEB, TFR_countries)))))))"
   ]
  },
  {
   "cell_type": "code",
   "execution_count": null,
   "id": "16ae872e-9a25-4c2e-8ab9-6bcbf49739ca",
   "metadata": {
    "tags": []
   },
   "outputs": [],
   "source": [
    "countries = list(filter(filtra_EDU, list(filter(filtra_GDP, list(filter(filtra_LEB, TFR_countries))))))"
   ]
  },
  {
   "cell_type": "code",
   "execution_count": null,
   "id": "03efdf0d-e939-49e3-8fd1-e181c9b1e110",
   "metadata": {
    "tags": []
   },
   "outputs": [],
   "source": [
    "print(countries)"
   ]
  },
  {
   "cell_type": "markdown",
   "id": "50ec2fdf-ebe6-4933-9119-892c96887b11",
   "metadata": {},
   "source": [
    "Determinamos los años para el caso del TFR."
   ]
  },
  {
   "cell_type": "code",
   "execution_count": null,
   "id": "56b30c3b-0cee-4355-8a09-973fa3082522",
   "metadata": {
    "tags": []
   },
   "outputs": [],
   "source": [
    "years = list(TFR_group.get_group('Afghanistan')['Year(s)'])\n",
    "print(years)"
   ]
  },
  {
   "cell_type": "markdown",
   "id": "116e4f58-d2b5-4d07-998c-7bcef93be59a",
   "metadata": {},
   "source": [
    "## Visualización exploratoria."
   ]
  },
  {
   "cell_type": "code",
   "execution_count": null,
   "id": "49c388f1-d3b7-4916-a521-970bd078fe4c",
   "metadata": {
    "tags": []
   },
   "outputs": [],
   "source": [
    "ax1 = plt.subplot(221)\n",
    "TFR.plot(x='Year(s)', y='Value', kind='scatter', marker='.', fc='C0', alpha=0.5, ax=ax1)\n",
    "ax1.set_title('TFR')\n",
    "\n",
    "ax2 = plt.subplot(222)\n",
    "GDP.plot(x='Year', y='Value', kind='scatter', marker='.', fc='C1', alpha=0.5, ax=ax2)\n",
    "ax2.set_title('GDP')\n",
    "\n",
    "ax3 = plt.subplot(223)\n",
    "LEB.plot(x='Year(s)', y='Value', kind='scatter', marker='.', fc='C2', alpha=0.5, ax=ax3)\n",
    "ax3.set_title('LEB')\n",
    "\n",
    "ax4 = plt.subplot(224)\n",
    "EDU.plot(x='Time Period', y='Observation Value', kind='scatter', marker='.', fc='C3', alpha=0.5, ax=ax4)\n",
    "ax4.set_title('EDU')\n",
    "\n",
    "plt.tight_layout()\n",
    "plt.savefig('TFR_01.png', dpi=300)\n",
    "plt.show()"
   ]
  },
  {
   "cell_type": "markdown",
   "id": "1bffed02-a96b-421f-92f7-82adbd010c4e",
   "metadata": {},
   "source": [
    "## Visualización del TFR.\n",
    "\n",
    "Las siguientes funciones son de utilidad para la visualización final."
   ]
  },
  {
   "cell_type": "code",
   "execution_count": null,
   "id": "dce7cc8e-5719-424b-9f36-a94fa2de3f73",
   "metadata": {
    "tags": []
   },
   "outputs": [],
   "source": [
    "from math import ceil\n",
    "\n",
    "def maxmin(data, time, value, country):\n",
    "    \"\"\"\n",
    "    Calcula el valor máximo y el mínimo de todos los países.\n",
    "    \n",
    "    Parameters\n",
    "    ----------\n",
    "    data : DataFrame\n",
    "        Dataframe con la información de los países.\n",
    "        \n",
    "    time: str\n",
    "        Nombre de la columna con la información de los años.\n",
    "        \n",
    "    value: str\n",
    "        Nombre de la columna con la información de los datos.\n",
    "\n",
    "    country: str\n",
    "        Nombre de la columna con los nombres de los países.\n",
    "\n",
    "    Returns\n",
    "    -------\n",
    "    p_max, y_max, p_min, y_min, yticks\n",
    "    \"\"\"    \n",
    "    # Se obtiene el valor máximo del time\n",
    "    x_max = data[time].max()\n",
    "    x_min = data[time].min()\n",
    "    \n",
    "    # Se obtiene el valor máximo del value\n",
    "    y_max = data[value].max() \n",
    "\n",
    "    # Extrae el nombre del país con el valor máximo\n",
    "    p_max = data[data[value] == y_max].iloc[0][country]\n",
    "\n",
    "    # Se obtiene el valor mínimo\n",
    "    y_min = data[value].min() \n",
    "\n",
    "    # Extrae el nombre del país con el valor mínimo\n",
    "    p_min = data[data[value] == y_min].iloc[0][country]\n",
    "\n",
    "    return p_max, y_max, p_min, y_min, x_min, x_max\n",
    "\n",
    "def set_canvas(data, time, value, country, figsize, xstep=10, ystep = 1):\n",
    "    \"\"\"\n",
    "    Genera un lienzo para crear las gráficas sobre él.\n",
    "    \n",
    "    Parameters\n",
    "    ----------\n",
    "    data : DataFrame\n",
    "        Dataframe con la información de los países.\n",
    "        \n",
    "    time: str\n",
    "        Nombre de la columna con la información de los años.\n",
    "        \n",
    "    value: str\n",
    "        Nombre de la columna con la información de los datos.\n",
    "\n",
    "    country: str\n",
    "        Nombre de la columna con los nombres de los países.\n",
    "        \n",
    "    figsize: tuple\n",
    "        Tamaño de la figura.\n",
    "        \n",
    "    xstep, ystep: int\n",
    "        Paso de los ticks en los ejes horizontal y vertical, respectivamente.\n",
    "\n",
    "    Returns\n",
    "    -------\n",
    "    fig, ax: \n",
    "        Figura y ejes donde se hará la gráfica.\n",
    "    \"\"\"    \n",
    "    p_max, y_max, p_min, y_min, x_min, x_max = maxmin(data, time, value, country)\n",
    "    print('Máximo = {}, \\t País : {}'.format(y_max, p_max))\n",
    "    print('Mínimo = {}, \\t País : {}'.format(y_min, p_min))\n",
    "    \n",
    "    # Se generan los yticks\n",
    "    yticks = [i for i in range(0, ceil(y_max)+1, ystep)]\n",
    "\n",
    "    fig = plt.figure(figsize=figsize)\n",
    "    ax = plt.gca()\n",
    "    \n",
    "    if not data.empty:\n",
    "        data.plot(x=time, y=value, color='lightgray', rot = 70, xlabel='', lw = 0.5, ax = ax, label='', legend=False)\n",
    "        \n",
    "    ax.spines.top.set_visible(False)\n",
    "    ax.spines.bottom.set_visible(False)\n",
    "    ax.spines.left.set_visible(False)\n",
    "    ax.spines.right.set_visible(False)\n",
    "    ax.set_ylim(y_min,y_max)\n",
    "    ax.set_yticks(yticks)\n",
    "    ax.set_xticks([a for a in range(x_min, x_max+1, xstep)])\n",
    "    ax.grid(lw=0.5, color='gainsboro')\n",
    "\n",
    "    return fig, ax\n",
    "\n",
    "def plot_country(ax, country, time='Year(s)', value = 'Value', color='gray', label='', maxim = 2021, ): \n",
    "    \"\"\"\n",
    "    Dibuja la curva de un país.\n",
    "    \n",
    "    Parameters\n",
    "    ----------\n",
    "    ax : Axis\n",
    "        Ejes donde se hará el gráfico.\n",
    "        \n",
    "    time: str\n",
    "        Nombre de la columna con la información de los años.\n",
    "        \n",
    "    value: str\n",
    "        Nombre de la columna con la información de los datos.\n",
    "\n",
    "    country: str\n",
    "        Nombre de la columna con los nombres de los países.\n",
    "        \n",
    "    color: str\n",
    "        Color de la curva.\n",
    "        \n",
    "    label: str\n",
    "        Etiqueta para la curva.\n",
    "        \n",
    "    maxim:\n",
    "        Límite para graficar una línea continua, a partir de este\n",
    "        límite se dibuja la línea punteada.\n",
    "    \"\"\"   \n",
    "    x = country[time][country[time]>=maxim-1]\n",
    "    y = country[value][country[time]>=maxim-1]\n",
    "    ax.plot(x, y, c=color, ls = '--', lw = 0.75)\n",
    "\n",
    "    x = country[time][country[time]<maxim]\n",
    "    y = country[value][country[time]<maxim]\n",
    "    ax.plot(x, y, c=color, ls = '-', lw = 2.0, label=label)\n",
    "        "
   ]
  },
  {
   "cell_type": "code",
   "execution_count": null,
   "id": "ec2e6f9d-7d52-4d31-925d-99e1579e3046",
   "metadata": {
    "tags": []
   },
   "outputs": [],
   "source": [
    "TFR_group.get_group('Yemen').dropna()"
   ]
  },
  {
   "cell_type": "code",
   "execution_count": null,
   "id": "f9ab257e-5d03-4650-a1a7-843c320a81de",
   "metadata": {
    "tags": []
   },
   "outputs": [],
   "source": [
    "fig, ax = set_canvas(TFR, 'Year(s)', 'Value', 'Country or Area', (10,7))\n",
    "\n",
    "ax.plot([years[-1], years[0]],[2.1,2.1], c='dimgray', ls = 'solid', lw=0.75)\n",
    "ax.plot([years[-1], years[0]],[2.1,2.1], c='dimgray', ls = 'solid', alpha=0.25, lw=2.75) \n",
    "\n",
    "ax.set_title('Promedio de número de hijos por mujer', loc='left', color='gray', fontsize=10)\n",
    "ax.set_title('fuente: http://data.un.org', loc='right', color='gray', fontstyle='italic', fontsize=10)\n",
    "plt.suptitle('Evolución del TFR (Total Fertility Rate)', y = 0.96, color='black', fontsize=14)\n",
    "ax.annotate('Nivel de \\n reemplazo \\n promedio = 2.1', \n",
    "             xy=(2090, 2.095), xytext=(2090, 4.0),\n",
    "             bbox=dict(boxstyle='round', facecolor='whitesmoke', edgecolor='gray', alpha=0.75, linewidth=0.5),\n",
    "             arrowprops=dict(arrowstyle='->', facecolor='dimgray', edgecolor='dimgray'),\n",
    "             fontsize=8, color='black', horizontalalignment='center')\n",
    "\n",
    "c_to_plot = [('Niger', 'Nigeria', 'darkred'), \n",
    "             ('Central African Republic', 'República Centroafricana', 'red'),\n",
    "             ('Burundi', 'Burundi', 'orangered'),\n",
    "             ('Malawi', 'Malawi', 'darkorange'),\n",
    "             ('Yemen', 'Yemen', 'limegreen'), \n",
    "             ('Mexico', 'México', 'forestgreen'),\n",
    "             ('Cuba', 'Cuba', 'dodgerblue'),\n",
    "             ('Liechtenstein', 'Liechtenstein', 'royalblue'),\n",
    "             ('Japan', 'Japón', 'mediumblue'),\n",
    "             ('World', 'Promedio Mundial', 'black'),\n",
    "#             ('Mongolia', 'Mongolia', 'darkorange'),\n",
    "#             ('India','India','limegreen'),\n",
    "#             ('United States of America', 'USA', 'deepskyblue'),\n",
    "#             ('China', 'China', 'mediumblue'),\n",
    "#             ('Spain','España','purple'),\n",
    "#             ('Republic of Korea', 'Corea del sur', 'crimson'),\n",
    "#             ('Holy See', 'Ciudad del Vaticano', 'olivedrab'),\n",
    "            ]\n",
    "for c in c_to_plot:\n",
    "    c_tfr = TFR_group.get_group(c[0]).dropna()\n",
    "    plot_country(ax, c_tfr, color=c[2])\n",
    "    ytext = c_tfr['Value'][c_tfr['Year(s)'] == 2020].values[0]\n",
    "    ytext_i = c_tfr['Value'][c_tfr['Year(s)'] == 1950].values[0]\n",
    "\n",
    "    if c[0] == 'Mexico':\n",
    "        ytext_i -= 0.1\n",
    "    if c[0] == 'Malawi':\n",
    "        ytext_i -= 0.03\n",
    "        \n",
    "    plt.text(1945, ytext_i, \"{:.2f}\".format(ytext_i), color = c[2], fontsize=8, fontweight='bold')\n",
    "\n",
    "    xy_x = 2020\n",
    "    xytext_x = 2040\n",
    "    \n",
    "    if c[0] == 'World':\n",
    "        yoff = 0.6\n",
    "    elif c[0] == 'Mongolia':\n",
    "        yoff = 0.6\n",
    "    elif c[0] == 'India':\n",
    "        yoff = 0.4\n",
    "    elif c[0] == 'United States of America':\n",
    "        yoff = -0.2\n",
    "    elif c[0] == 'Republic of Korea':\n",
    "        yoff = -0.7\n",
    "    elif c[0] == 'Mexico':\n",
    "        yoff = -0.05\n",
    "    elif c[0] == 'Malawi':\n",
    "        yoff = 0.6\n",
    "    elif c[0] == 'Yemen':\n",
    "        yoff = 0.0\n",
    "    elif c[0] == 'Japan':\n",
    "        yoff = -0.9\n",
    "    elif c[0] == 'Cuba':\n",
    "        yoff = -0.3\n",
    "    elif c[0] == 'Liechtenstein':\n",
    "        yoff = -0.7\n",
    "    elif c[0] == 'Holy See':\n",
    "        xy_x = 1980\n",
    "        xytext_x = 1965\n",
    "        yoff = -0.5\n",
    "    else:\n",
    "        yoff = 0.2\n",
    "\n",
    "    plt.annotate(c[1]+\": {:.2f}\".format(ytext), xy = (xy_x, ytext), xytext = (xytext_x, ytext+yoff), \n",
    "                     color = c[2], fontsize=8, fontweight='bold',\n",
    "                     bbox=dict(boxstyle='round', fc='white', ec='gainsboro', alpha=0.75, linewidth=0.25),\n",
    "                     arrowprops=dict(arrowstyle='-', color=c[2]))\n",
    "\n",
    "plt.savefig('TFR.png', dpi=300)\n",
    "plt.show()"
   ]
  },
  {
   "cell_type": "markdown",
   "id": "1002b587-31e8-4b47-ac5e-7ecdc74b873e",
   "metadata": {},
   "source": [
    "## Exploración de los otros datos."
   ]
  },
  {
   "cell_type": "code",
   "execution_count": null,
   "id": "51c5b4e8-6c88-4261-84a9-0f34cdbbec0c",
   "metadata": {
    "tags": []
   },
   "outputs": [],
   "source": [
    "fig, ax = set_canvas(LEB, 'Year(s)', 'Value', 'Country or Area', (10,7), ystep=10)\n",
    "plot_country(ax, LEB_group.get_group('Yemen').dropna(), color='C0', label='Yemen', maxim=2022)\n",
    "plot_country(ax, LEB_group.get_group('Mexico').dropna(), color='C1', label='México', maxim=2022)\n",
    "plot_country(ax, LEB_group.get_group('Germany').dropna(), color='C2', label='Alemania')\n",
    "plot_country(ax, LEB_group.get_group('Holy See').dropna(), color='C3', label='El Baticano')\n",
    "plot_country(ax, LEB_group.get_group('United States of America').dropna(), color='C4', label='USA')\n",
    "plot_country(ax, LEB_group.get_group('Niger').dropna(), color='C5', label='Nigeria')\n",
    "plot_country(ax, LEB_group.get_group('China, Hong Kong SAR').dropna(), color='C6', label='Hong Kong')\n",
    "plot_country(ax, LEB_group.get_group('San Marino').dropna(), color='C8', label='San Marino')"
   ]
  },
  {
   "cell_type": "code",
   "execution_count": null,
   "id": "ecfa521b-9dcd-4954-9712-69cbf481b7e3",
   "metadata": {
    "tags": []
   },
   "outputs": [],
   "source": [
    "maxmin(GDP, 'Year', 'Value', 'Country or Area')"
   ]
  },
  {
   "cell_type": "code",
   "execution_count": null,
   "id": "c0a3cae2-c834-4a96-b338-9fd05de8531f",
   "metadata": {
    "tags": []
   },
   "outputs": [],
   "source": [
    "fig, ax = set_canvas(GDP, 'Year', 'Value', 'Country or Area', (10,7), xstep=5, ystep=10000)\n",
    "plot_country(ax, GDP_group.get_group('Yemen').dropna(), time = 'Year', color='C0', label='Yemen', maxim=2022)\n",
    "plot_country(ax, GDP_group.get_group('Mexico').dropna(), time = 'Year', color='C1', label='México', maxim=2022)\n",
    "plot_country(ax, GDP_group.get_group('Germany').dropna(), time = 'Year', color='C2', label='Alemania')\n",
    "#plot_country(ax, GDP_group.get_group('Holy See').dropna(), time = 'Year', color='C3', label='El Baticano')\n",
    "#plot_country(ax, GDP_group.get_group('United States of America').dropna(), time = 'Year', color='C4', label='USA')\n",
    "plot_country(ax, GDP_group.get_group('Niger').dropna(), time = 'Year', color='C5', label='Nigeria')\n",
    "plot_country(ax, GDP_group.get_group('China, Hong Kong SAR').dropna(), time = 'Year', color='C6', label='Hong Kong')\n",
    "plot_country(ax, GDP_group.get_group('San Marino').dropna(), time = 'Year', color='C8', label='San Marino')"
   ]
  },
  {
   "cell_type": "code",
   "execution_count": null,
   "id": "ef539b61-cafd-4427-a3e2-e316395c6e5a",
   "metadata": {
    "tags": []
   },
   "outputs": [],
   "source": [
    "maxmin(EDU, 'Time Period', 'Observation Value', 'Reference Area')"
   ]
  },
  {
   "cell_type": "code",
   "execution_count": null,
   "id": "98531646-b161-4df5-b3f2-7fd7596b29d8",
   "metadata": {
    "tags": []
   },
   "outputs": [],
   "source": [
    "fig, ax = set_canvas(EDU, 'Time Period', 'Observation Value', 'Reference Area', (10,7), xstep=5, ystep=10)\n",
    "plot_country(ax, EDU_group.get_group('Yemen').dropna(), time = 'Time Period', value = 'Observation Value', color='C0', label='Yemen', maxim=2022)\n",
    "plot_country(ax, EDU_group.get_group('Mexico').dropna(), time = 'Time Period', value = 'Observation Value', color='C1', label='México', maxim=2022)\n",
    "plot_country(ax, EDU_group.get_group('Germany').dropna(), time = 'Time Period', value = 'Observation Value', color='C2', label='Alemania')\n",
    "#plot_country(ax, EDU_group.get_group('Holy See').dropna(), time = 'Time Period', value = 'Observation Value', color='C3', label='El Baticano')\n",
    "plot_country(ax, EDU_group.get_group('United States of America').dropna(), time = 'Time Period', value = 'Observation Value', color='C4', label='USA')\n",
    "plot_country(ax, EDU_group.get_group('Niger').dropna(), time = 'Time Period', value = 'Observation Value', color='C5', label='Nigeria')\n",
    "#plot_country(ax, EDU_group.get_group('China, Hong Kong SAR').dropna(), time = 'Time Period', value = 'Observation Value', color='C6', label='Hong Kong')\n",
    "plot_country(ax, EDU_group.get_group('San Marino').dropna(), time = 'Time Period', value = 'Observation Value', color='C8', label='San Marino')"
   ]
  },
  {
   "cell_type": "markdown",
   "id": "965c2804-d665-4880-b860-0b6a29237ccf",
   "metadata": {},
   "source": [
    "Se realiza un regresión lineal de LEB vs TFR"
   ]
  },
  {
   "cell_type": "code",
   "execution_count": null,
   "id": "632aecd9-28e2-4e32-bb85-3abdba04cfa3",
   "metadata": {
    "tags": []
   },
   "outputs": [],
   "source": [
    "import scipy\n",
    "lres = scipy.stats.linregress(hdi.TFR, hdi.LEB)\n",
    "x = np.linspace(1,9,100)\n",
    "y = lres.slope * x + lres.intercept\n",
    "\n",
    "plt.plot(x, y, label='Regresión lineal')\n",
    "plt.legend()\n",
    "plt.show()"
   ]
  },
  {
   "cell_type": "markdown",
   "id": "086d6a5e-cf3b-4cc6-9288-a03076bb3fb1",
   "metadata": {},
   "source": [
    "Se grafica la relación de TFR vs LEB y el ajuste."
   ]
  },
  {
   "cell_type": "code",
   "execution_count": null,
   "id": "a2e96636-707f-4f7f-8b00-529493d104df",
   "metadata": {
    "tags": []
   },
   "outputs": [],
   "source": [
    "lista_paises = [('Yemen', 'Yemen', 'C3'), \n",
    "             ('Niger', 'Nigeria', 'navy'), \n",
    "             ('Chad', 'Chad', 'C2'),\n",
    "             ('Mexico', 'México', 'darkorange'),\n",
    "             ('Japan', 'Japón', 'C7'),\n",
    "             ('Sweden', 'Suecia', 'C5'),\n",
    "             ('New Zealand', 'Nueva Zelanda', 'olivedrab')\n",
    "               ]\n",
    "paises_to_plot = [hdi[hdi['País'] == p[0]] for p in lista_paises]\n",
    "\n",
    "plt.figure(figsize=(12,8))\n",
    "\n",
    "ax = plt.subplot(111)\n",
    "niv_edu = np.array(hdi['EDU']*10.0)\n",
    "gdp_val = np.array(np.log(hdi['GDP']))\n",
    "scatter = ax.scatter(hdi['TFR'], hdi['LEB'], marker='o', s=niv_edu, c=gdp_val, ec='silver', cmap='jet', alpha=0.75)\n",
    "\n",
    "#    ax.scatter(p['TFR'], p['LEB'], c='k', marker='.', label=pc[1])\n",
    "\n",
    "xt, yt = 4, 85\n",
    "ic = 0\n",
    "for pa, cl in zip(paises_to_plot, lista_paises):\n",
    "    if cl[0] == 'Japan':\n",
    "        xt, yt = 1.5, 87.5\n",
    "    elif cl[0] == 'Niger':\n",
    "        xt, yt = 8, 65.5\n",
    "    elif cl[0] == 'Chad':\n",
    "        xt, yt = 7, 45.5\n",
    "    elif cl[0] == 'Yemen':\n",
    "        xt, yt = 5.5, 70.5\n",
    "    elif cl[0] == 'Mexico':\n",
    "        xt, yt = 2.5, 62.5\n",
    "    elif cl[0] == 'New Zealand':\n",
    "        xt, yt = 5, 82.5\n",
    "    elif cl[0] == 'Sweden':\n",
    "        xt, yt = 2.5, 86\n",
    "\n",
    "\n",
    "    niv_edu = np.array(pa['EDU']*10.0)\n",
    "    gdp_val = np.array(np.log(pa['GDP']))\n",
    "    ax.scatter(pa['TFR'], pa['LEB'], marker='o', s=niv_edu, c=gdp_val, ec='silver', cmap='jet', alpha=0.01, zorder=25)\n",
    "\n",
    "    plt.annotate(cl[1], xy = (pa['TFR'], pa['LEB']), xytext = (xt, yt), \n",
    "                     color = 'dimgray', fontsize=14, fontweight='normal', ha='right',\n",
    "                     bbox=dict(boxstyle='round', fc='white', ec='gainsboro', alpha=0.75, linewidth=0.25),\n",
    "                     arrowprops=dict(arrowstyle='-', color='dimgray'))\n",
    "    \n",
    "ax.plot(x,y,'k--', alpha=0.5, lw=3)\n",
    "ax.set_xlabel('TFR')\n",
    "ax.set_ylabel('LEB')\n",
    "ax.set_xticks([i for i in range(1,10)], labels=[i for i in range(1,10)], fontsize=14 )\n",
    "ax.set_yticks([yt for yt in range(40,95,5)], labels=[yt for yt in range(40,95,5)], fontsize=14)\n",
    "ax.spines['bottom'].set_visible(False)\n",
    "ax.grid(lw=0.5)\n",
    "plt.colorbar(mappable=scatter, label='GDP')\n",
    "\n",
    "plt.tight_layout()"
   ]
  },
  {
   "cell_type": "markdown",
   "id": "a3821892-2d21-4d73-9c71-8e8a60a30357",
   "metadata": {},
   "source": [
    "## Construcción del HDI\n",
    "\n",
    "Se extrae información para el año 2010."
   ]
  },
  {
   "cell_type": "code",
   "execution_count": null,
   "id": "0429832c-2dca-43ae-b04f-b76975d76c47",
   "metadata": {
    "tags": []
   },
   "outputs": [],
   "source": [
    "countries = list(filter(filtra_EDU, list(filter(filtra_GDP, list(filter(filtra_LEB, TFR_countries))))))\n",
    "tfr = pd.Series(dtype=float)\n",
    "gdp = pd.Series(dtype=float)\n",
    "edu = pd.Series(dtype=float)\n",
    "leb = pd.Series(dtype=float)\n",
    "final_countries = []\n",
    "año = 2010\n",
    "\n",
    "paises_to_remove = ['Malaysia', 'British Virgin Islands', 'Cook Islands', 'Monaco', 'Seychelles']\n",
    "for p in paises_to_remove:\n",
    "    countries.remove(p)\n",
    "\n",
    "for i, c in enumerate(countries):\n",
    "\n",
    "    c_g = EDU_group.get_group(c).groupby('Sex').get_group('Female')\n",
    "    if año in c_g['Time Period'].values:\n",
    "        final_countries.append(c)\n",
    "        \n",
    "        edu = pd.concat([edu, c_g[c_g['Time Period'] == año]['Observation Value']])\n",
    "    \n",
    "        c_g = GDP_group.get_group(c)\n",
    "        gdp = pd.concat([gdp, c_g[c_g['Year'] == año]['Value']])\n",
    "        \n",
    "        c_g = TFR_group.get_group(c)\n",
    "        tfr = pd.concat([tfr, c_g[c_g['Year(s)'] == año]['Value']])\n",
    "        \n",
    "        c_g = LEB_group.get_group(c)\n",
    "        leb = pd.concat([leb, c_g[c_g['Year(s)'] == año]['Value']])"
   ]
  },
  {
   "cell_type": "code",
   "execution_count": null,
   "id": "bb50c2e6-cea5-431f-a283-38f32654a4e4",
   "metadata": {
    "tags": []
   },
   "outputs": [],
   "source": [
    "print(len(tfr), len(gdp), len(edu), len(leb))"
   ]
  },
  {
   "cell_type": "markdown",
   "id": "c2c43082-233a-407b-9da1-2033c79066d8",
   "metadata": {},
   "source": [
    "Se construye el dataframe con todas las variables para los países donde se tiene información. "
   ]
  },
  {
   "cell_type": "code",
   "execution_count": null,
   "id": "76f582ac-794a-4408-a848-fcc2af301a7b",
   "metadata": {
    "tags": []
   },
   "outputs": [],
   "source": [
    "hdi = pd.DataFrame()\n",
    "hdi['País'] = final_countries\n",
    "hdi['TFR'] = list(tfr)\n",
    "hdi['GDP'] = list(gdp)\n",
    "hdi['EDU'] = list(edu)\n",
    "hdi['LEB'] = list(leb)\n",
    "hdi"
   ]
  },
  {
   "cell_type": "markdown",
   "id": "14a9c912-b222-46d9-a957-9f2941b1a71e",
   "metadata": {},
   "source": [
    "Se agrega una columna para el HDI."
   ]
  },
  {
   "cell_type": "code",
   "execution_count": null,
   "id": "2ca644e8-aa21-459d-bff4-3943e7197f2b",
   "metadata": {
    "tags": []
   },
   "outputs": [],
   "source": [
    "hdi['HDI'] = np.cbrt(hdi.TFR * hdi.EDU * hdi.LEB)"
   ]
  },
  {
   "cell_type": "code",
   "execution_count": null,
   "id": "bf21ef86-a643-45a4-ae96-09e3b9dc64b7",
   "metadata": {
    "tags": []
   },
   "outputs": [],
   "source": [
    "hdi['HDI'] = hdi.HDI / hdi.HDI.max()"
   ]
  },
  {
   "cell_type": "code",
   "execution_count": null,
   "id": "976f632f-11c8-4929-8f4e-ee9b7c74204b",
   "metadata": {
    "tags": []
   },
   "outputs": [],
   "source": [
    "hdi"
   ]
  },
  {
   "cell_type": "markdown",
   "id": "d626f1f9-b698-4811-8699-78543b0a422c",
   "metadata": {},
   "source": [
    "Se realiza una regresión lineal del HDI vs TFR."
   ]
  },
  {
   "cell_type": "code",
   "execution_count": null,
   "id": "b6514c2b-0010-4e27-a6c3-8bf715a0c910",
   "metadata": {
    "tags": []
   },
   "outputs": [],
   "source": [
    "lres = scipy.stats.linregress(hdi.TFR, hdi.HDI)\n",
    "print(lres.slope, lres.intercept, lres.rvalue**2)\n",
    "x = np.linspace(1,9,100)\n",
    "y = lres.slope * x + lres.intercept\n",
    "\n",
    "plt.plot(x, y, label='Regresión lineal')\n",
    "plt.legend()\n",
    "plt.show()"
   ]
  },
  {
   "cell_type": "markdown",
   "id": "4716a15f-0e42-4f97-801c-81f23b81e04c",
   "metadata": {
    "tags": []
   },
   "source": [
    "Se grafica todo juntos"
   ]
  },
  {
   "cell_type": "code",
   "execution_count": null,
   "id": "4a345341-ccb3-46e7-b665-6f84b83b4327",
   "metadata": {
    "tags": []
   },
   "outputs": [],
   "source": [
    "hdi.sort_values('EDU', inplace = True)\n",
    "\n",
    "lista_paises = [('Niger', 'Nigeria', 'darkred'), \n",
    "             ('Central African Republic', 'República Centroafricana', 'red'),\n",
    "             ('Burundi', 'Burundi', 'orangered'),\n",
    "             ('Malawi', 'Malawi', 'darkorange'),\n",
    "             ('Yemen', 'Yemen', 'limegreen'), \n",
    "             ('Mexico', 'México', 'forestgreen'),\n",
    "             ('Cuba', 'Cuba', 'dodgerblue'),\n",
    "             ('Liechtenstein', 'Liechtenstein', 'royalblue'),\n",
    "             ('Japan', 'Japón', 'mediumblue')\n",
    "               ]\n",
    "\n",
    "paises_to_plot = [hdi[hdi['País'] == p[0]] for p in lista_paises]\n",
    "\n",
    "plt.figure(figsize=(12,8))\n",
    "\n",
    "ax = plt.subplot(111)\n",
    "niv_edu = np.array(hdi['EDU']*10.0)\n",
    "#gdp_val = np.array(np.log(hdi['GDP']))\n",
    "gdp_val = np.array(hdi['GDP'])\n",
    "\n",
    "scatter = ax.scatter(hdi['TFR'], hdi['HDI'], marker='o', s=niv_edu, c=gdp_val, ec='silver', cmap='YlGnBu', alpha=0.75)\n",
    "\n",
    "ha = 'right'\n",
    "for pa, cl in zip(paises_to_plot, lista_paises):\n",
    "    if cl[0] == 'Yemen':\n",
    "        xt, yt = 6., 0.55\n",
    "    elif cl[0] == 'Niger':\n",
    "        xt, yt = 8, 0.4\n",
    "    elif cl[0] == 'India':\n",
    "        xt, yt = 3.0, 0.2\n",
    "    elif cl[0] == 'Yemen':\n",
    "        xt, yt = 4.5, 1.0\n",
    "    elif cl[0] == 'Mexico':\n",
    "        xt, yt = 2.25, .25\n",
    "    elif cl[0] == 'Liechtenstein':\n",
    "        xt, yt = 0.75, 0.35\n",
    "        ha = 'left'\n",
    "    elif cl[0] == 'Burundi':\n",
    "        xt, yt = 6.75, 0.45\n",
    "    elif cl[0] == 'Central African Republic':\n",
    "        xt, yt = 7, 0.1\n",
    "    elif cl[0] == 'Malawi':\n",
    "        xt, yt = 4, 0.1\n",
    "    elif cl[0] == 'Republic of Korea':\n",
    "        xt, yt = 0.65, 1.05\n",
    "    elif cl[0] == 'Cuba':\n",
    "        xt, yt = 3, 1.05\n",
    "    else:\n",
    "        xt, yt = 0.75, 1.0\n",
    "\n",
    "    niv_edu = np.array(pa['EDU']*10.0)\n",
    "    gdp_val = np.array(np.log(pa['GDP']))\n",
    "    ax.scatter(pa['TFR'], pa['HDI'], marker='o', s = niv_edu, ec=cl[2], facecolor=\"None\", alpha=0.1, zorder=15)\n",
    "\n",
    "    plt.annotate(cl[1], xy = (pa['TFR'], pa['HDI']), xytext = (xt, yt), zorder=20,\n",
    "                     color = cl[2], fontsize=10, fontweight='normal', ha=ha,\n",
    "                     bbox=dict(boxstyle='round', fc='white', ec='gainsboro', alpha=0.75, linewidth=0.25),\n",
    "                     arrowprops=dict(arrowstyle='->', color=cl[2]))\n",
    "    \n",
    "ax.plot(x,y,'k--', alpha=0.5, lw=3, label='Ajuste: slope = {:0.3f}, intercept = {:0.3f}, PCC = {:0.3f}'.format(lres.slope, lres.intercept, lres.rvalue))\n",
    "ax.set_xlabel('TFR')\n",
    "ax.set_ylabel('HDI')\n",
    "ax.set_xticks([i for i in range(1,10)], labels=[i for i in range(1,10)], fontsize=14 )\n",
    "ax.set_yticks([0,0.2,0.4,0.6,0.8,1.0], labels=[0,0.2,0.4,0.6,0.8,1.0], fontsize=14)\n",
    "ax.set_ylim(-0.1, 1.1)\n",
    "ax.spines['bottom'].set_visible(False)\n",
    "ax.grid(lw=0.5)\n",
    "ax.set_title('Efecto del TFR, GDP y EDU en el HDI', loc='left', color='gray', fontsize=10)\n",
    "ax.set_title('fuente: http://data.un.org', loc='right', color='gray', fontstyle='italic', fontsize=10)\n",
    "plt.suptitle('Índice de desarrollo humano (HDI) en 2010', y = 0.96, color='black', fontsize=14)\n",
    "texto = \"\"\" \n",
    "Cada círculo representa a un país. El nivel de\n",
    "educación (EDU) en las mujeres se representa \n",
    "como el tamaño de cada círculo.\n",
    "\"\"\"\n",
    "plt.text(5.5,0.9,texto, fontsize=10,bbox=dict(boxstyle='round', fc='white', ec='silver', alpha=0.5, linewidth=0.75))\n",
    "plt.colorbar(mappable=scatter, label='GDP [USD $]', ticks=[1000, 20000, 40000, 60000, 80000, 100000, 120000, 135000])\n",
    "plt.legend(loc='lower left', frameon=True)\n",
    "\n",
    "plt.savefig('HDI.pdf', dpi = 300)"
   ]
  },
  {
   "cell_type": "code",
   "execution_count": null,
   "id": "0d850144-888d-4334-a61d-8ae26a5ee99b",
   "metadata": {},
   "outputs": [],
   "source": []
  }
 ],
 "metadata": {
  "kernelspec": {
   "display_name": "Python 3 (ipykernel)",
   "language": "python",
   "name": "python3"
  },
  "language_info": {
   "codemirror_mode": {
    "name": "ipython",
    "version": 3
   },
   "file_extension": ".py",
   "mimetype": "text/x-python",
   "name": "python",
   "nbconvert_exporter": "python",
   "pygments_lexer": "ipython3",
   "version": "3.11.3"
  }
 },
 "nbformat": 4,
 "nbformat_minor": 5
}
